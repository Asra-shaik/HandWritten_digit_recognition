{
 "cells": [
  {
   "cell_type": "markdown",
   "metadata": {},
   "source": [
    "# Digit recognition using tensorflow"
   ]
  },
  {
   "cell_type": "code",
   "execution_count": 1,
   "metadata": {},
   "outputs": [
    {
     "name": "stdout",
     "output_type": "stream",
     "text": [
      "Extracting model_data/train-images-idx3-ubyte.gz\n",
      "Extracting model_data/train-labels-idx1-ubyte.gz\n",
      "Extracting model_data/t10k-images-idx3-ubyte.gz\n",
      "Extracting model_data/t10k-labels-idx1-ubyte.gz\n"
     ]
    }
   ],
   "source": [
    "#!/usr/bin/env python\n",
    "# handwritten_digits_recognition.py\n",
    "# Date: 03-May-2017\n",
    "# About: Handwritten digits recognition with Tensorflow\n",
    "\n",
    "\n",
    "# Required Python Packages\n",
    "from tensorflow.examples.tutorials.mnist import input_data\n",
    "\n",
    "# Download the MNIS dataset\n",
    "mnist = input_data.read_data_sets(\"model_data/\", one_hot=True)\n",
    "\n",
    "# import tensorflow to the environment\n",
    "import tensorflow as tf"
   ]
  },
  {
   "cell_type": "code",
   "execution_count": 2,
   "metadata": {
    "collapsed": true
   },
   "outputs": [],
   "source": [
    "# initializing parameters for the model\n",
    "batch = 100\n",
    "learning_rate = 0.01\n",
    "training_epochs = 10\n",
    "\n",
    "# creating placeholders\n",
    "x = tf.placeholder(tf.float32, shape=[None, 784])\n",
    "y_ = tf.placeholder(tf.float32, shape=[None, 10])\n",
    "\n",
    "# creating variables\n",
    "W = tf.Variable(tf.zeros([784, 10]))\n",
    "b = tf.Variable(tf.zeros([10]))\n",
    "\n"
   ]
  },
  {
   "cell_type": "code",
   "execution_count": 3,
   "metadata": {
    "collapsed": true
   },
   "outputs": [],
   "source": [
    "# initializing the model\n",
    "y = tf.nn.softmax(tf.matmul(x,W) + b)\n",
    "\n",
    "# Defining Cost Function\n",
    "cross_entropy = tf.reduce_mean(-tf.reduce_sum(y_ * tf.log(y), reduction_indices=[1]))\n",
    "\n",
    "# Determining the accuracy of parameters\n",
    "correct_prediction = tf.equal(tf.argmax(y,1), tf.argmax(y_,1))\n",
    "accuracy = tf.reduce_mean(tf.cast(correct_prediction, tf.float32))\n",
    "\n",
    "# Implementing Gradient Descent Algorithm\n",
    "train_op = tf.train.GradientDescentOptimizer(learning_rate).minimize(cross_entropy)\n",
    "\n"
   ]
  },
  {
   "cell_type": "code",
   "execution_count": 4,
   "metadata": {},
   "outputs": [
    {
     "name": "stdout",
     "output_type": "stream",
     "text": [
      "Epoch:  0\n",
      "Accuracy:  0.8525\n",
      "Model Execution Complete\n",
      "Epoch:  2\n",
      "Accuracy:  0.8822\n",
      "Model Execution Complete\n",
      "Epoch:  4\n",
      "Accuracy:  0.8902\n",
      "Model Execution Complete\n",
      "Epoch:  6\n",
      "Accuracy:  0.8982\n",
      "Model Execution Complete\n",
      "Epoch:  8\n",
      "Accuracy:  0.9019\n",
      "Model Execution Complete\n"
     ]
    }
   ],
   "source": [
    "# Initializing the session\n",
    "sess = tf.Session()\n",
    "sess.run(tf.global_variables_initializer())\n",
    "\n",
    "# Creating batches of data for epochs\n",
    "for epoch in range(training_epochs):\n",
    "    batch_count = int(mnist.train.num_examples / batch)\n",
    "    for i in range(batch_count):\n",
    "        batch_x, batch_y = mnist.train.next_batch(batch)\n",
    "\n",
    "        # Executing the model\n",
    "        sess.run([train_op], feed_dict={x: batch_x, y_: batch_y})\n",
    "\n",
    "# Print Accuracy of the model\n",
    "    if epoch % 2 == 0:\n",
    "        print (\"Epoch: \", epoch)\n",
    "        print (\"Accuracy: \", accuracy.eval(session = sess, feed_dict={x: mnist.test.images, y_: mnist.test.labels}))\n",
    "        print (\"Model Execution Complete\")"
   ]
  },
  {
   "cell_type": "code",
   "execution_count": null,
   "metadata": {
    "collapsed": true
   },
   "outputs": [],
   "source": []
  }
 ],
 "metadata": {
  "kernelspec": {
   "display_name": "Python 3",
   "language": "python",
   "name": "python3"
  },
  "language_info": {
   "codemirror_mode": {
    "name": "ipython",
    "version": 3
   },
   "file_extension": ".py",
   "mimetype": "text/x-python",
   "name": "python",
   "nbconvert_exporter": "python",
   "pygments_lexer": "ipython3",
   "version": "3.6.2"
  }
 },
 "nbformat": 4,
 "nbformat_minor": 2
}
